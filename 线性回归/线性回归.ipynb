{
 "cells": [
  {
   "cell_type": "markdown",
   "id": "7bd9e4b0",
   "metadata": {},
   "source": [
    "### Pytorch建立模型步骤：\n",
    "\n",
    "### 1、准备数据集\n",
    "### 2、利用继承于nn.Module的类来设计模型\n",
    "### 3、利用API构造损失函数和优化器\n",
    "### 4、训练周期：前馈、反馈和更新"
   ]
  },
  {
   "cell_type": "code",
   "execution_count": 1,
   "id": "d49bc9f5",
   "metadata": {},
   "outputs": [],
   "source": [
    "import torch"
   ]
  },
  {
   "cell_type": "code",
   "execution_count": 3,
   "id": "f4da32aa",
   "metadata": {},
   "outputs": [
    {
     "name": "stdout",
     "output_type": "stream",
     "text": [
      "tensor([[1.],\n",
      "        [2.],\n",
      "        [3.]])\n"
     ]
    }
   ],
   "source": [
    "x_data = torch.Tensor([[1.0],[2.0],[3.0]])\n",
    "y_data = torch.Tensor([[2.0],[4.0],[6.0]])\n",
    "print(x_data)"
   ]
  },
  {
   "cell_type": "code",
   "execution_count": 5,
   "id": "9206e339",
   "metadata": {},
   "outputs": [],
   "source": [
    "# 建立模型\n",
    "class LinearModel(torch.nn.Module):\n",
    "    # 类中至少需要__init__()和forward()两个方法\n",
    "    def __init__(self):\n",
    "        super(LinearModel,self).__init__()  # 调用父类构造函数\n",
    "        self.linear = torch.nn.Linear(1,1) # nn.Linear类自带两个成员Tensor：weight和bias,参数分别为输入输出的特征数\n",
    "        \n",
    "    def forward(self,x): # 名字必须叫forward，需要覆盖模型父类中的函数\n",
    "        y_pred = self.linear(x) # 传入x使得模型可调用\n",
    "        return y_pred\n",
    "    \n",
    "model = LinearModel() # 实例化"
   ]
  },
  {
   "cell_type": "code",
   "execution_count": 6,
   "id": "b3f410b1",
   "metadata": {},
   "outputs": [
    {
     "name": "stderr",
     "output_type": "stream",
     "text": [
      "E:\\anaconda\\lib\\site-packages\\torch\\nn\\_reduction.py:42: UserWarning: size_average and reduce args will be deprecated, please use reduction='sum' instead.\n",
      "  warnings.warn(warning.format(ret))\n"
     ]
    }
   ],
   "source": [
    "# 构造损失函数\n",
    "criterion = torch.nn.MSELoss(size_average=False) # 平方损失,可选择是否求均值\n",
    "# 构造优化器\n",
    "optimizer = torch.optim.SGD(model.parameters(),lr=0.01) # 随机梯度下降，传入模型参数和学习率"
   ]
  },
  {
   "cell_type": "code",
   "execution_count": 7,
   "id": "a05acc13",
   "metadata": {},
   "outputs": [
    {
     "name": "stdout",
     "output_type": "stream",
     "text": [
      "0 tensor(90.2157, grad_fn=<MseLossBackward>)\n",
      "1 tensor(40.2068, grad_fn=<MseLossBackward>)\n",
      "2 tensor(17.9436, grad_fn=<MseLossBackward>)\n",
      "3 tensor(8.0320, grad_fn=<MseLossBackward>)\n",
      "4 tensor(3.6191, grad_fn=<MseLossBackward>)\n",
      "5 tensor(1.6539, grad_fn=<MseLossBackward>)\n",
      "6 tensor(0.7784, grad_fn=<MseLossBackward>)\n",
      "7 tensor(0.3881, grad_fn=<MseLossBackward>)\n",
      "8 tensor(0.2138, grad_fn=<MseLossBackward>)\n",
      "9 tensor(0.1355, grad_fn=<MseLossBackward>)\n",
      "10 tensor(0.1001, grad_fn=<MseLossBackward>)\n",
      "11 tensor(0.0838, grad_fn=<MseLossBackward>)\n",
      "12 tensor(0.0760, grad_fn=<MseLossBackward>)\n",
      "13 tensor(0.0719, grad_fn=<MseLossBackward>)\n",
      "14 tensor(0.0696, grad_fn=<MseLossBackward>)\n",
      "15 tensor(0.0680, grad_fn=<MseLossBackward>)\n",
      "16 tensor(0.0668, grad_fn=<MseLossBackward>)\n",
      "17 tensor(0.0657, grad_fn=<MseLossBackward>)\n",
      "18 tensor(0.0647, grad_fn=<MseLossBackward>)\n",
      "19 tensor(0.0637, grad_fn=<MseLossBackward>)\n",
      "20 tensor(0.0628, grad_fn=<MseLossBackward>)\n",
      "21 tensor(0.0619, grad_fn=<MseLossBackward>)\n",
      "22 tensor(0.0610, grad_fn=<MseLossBackward>)\n",
      "23 tensor(0.0601, grad_fn=<MseLossBackward>)\n",
      "24 tensor(0.0593, grad_fn=<MseLossBackward>)\n",
      "25 tensor(0.0584, grad_fn=<MseLossBackward>)\n",
      "26 tensor(0.0576, grad_fn=<MseLossBackward>)\n",
      "27 tensor(0.0568, grad_fn=<MseLossBackward>)\n",
      "28 tensor(0.0559, grad_fn=<MseLossBackward>)\n",
      "29 tensor(0.0551, grad_fn=<MseLossBackward>)\n",
      "30 tensor(0.0543, grad_fn=<MseLossBackward>)\n",
      "31 tensor(0.0536, grad_fn=<MseLossBackward>)\n",
      "32 tensor(0.0528, grad_fn=<MseLossBackward>)\n",
      "33 tensor(0.0520, grad_fn=<MseLossBackward>)\n",
      "34 tensor(0.0513, grad_fn=<MseLossBackward>)\n",
      "35 tensor(0.0506, grad_fn=<MseLossBackward>)\n",
      "36 tensor(0.0498, grad_fn=<MseLossBackward>)\n",
      "37 tensor(0.0491, grad_fn=<MseLossBackward>)\n",
      "38 tensor(0.0484, grad_fn=<MseLossBackward>)\n",
      "39 tensor(0.0477, grad_fn=<MseLossBackward>)\n",
      "40 tensor(0.0470, grad_fn=<MseLossBackward>)\n",
      "41 tensor(0.0463, grad_fn=<MseLossBackward>)\n",
      "42 tensor(0.0457, grad_fn=<MseLossBackward>)\n",
      "43 tensor(0.0450, grad_fn=<MseLossBackward>)\n",
      "44 tensor(0.0444, grad_fn=<MseLossBackward>)\n",
      "45 tensor(0.0437, grad_fn=<MseLossBackward>)\n",
      "46 tensor(0.0431, grad_fn=<MseLossBackward>)\n",
      "47 tensor(0.0425, grad_fn=<MseLossBackward>)\n",
      "48 tensor(0.0419, grad_fn=<MseLossBackward>)\n",
      "49 tensor(0.0413, grad_fn=<MseLossBackward>)\n",
      "50 tensor(0.0407, grad_fn=<MseLossBackward>)\n",
      "51 tensor(0.0401, grad_fn=<MseLossBackward>)\n",
      "52 tensor(0.0395, grad_fn=<MseLossBackward>)\n",
      "53 tensor(0.0390, grad_fn=<MseLossBackward>)\n",
      "54 tensor(0.0384, grad_fn=<MseLossBackward>)\n",
      "55 tensor(0.0378, grad_fn=<MseLossBackward>)\n",
      "56 tensor(0.0373, grad_fn=<MseLossBackward>)\n",
      "57 tensor(0.0368, grad_fn=<MseLossBackward>)\n",
      "58 tensor(0.0362, grad_fn=<MseLossBackward>)\n",
      "59 tensor(0.0357, grad_fn=<MseLossBackward>)\n",
      "60 tensor(0.0352, grad_fn=<MseLossBackward>)\n",
      "61 tensor(0.0347, grad_fn=<MseLossBackward>)\n",
      "62 tensor(0.0342, grad_fn=<MseLossBackward>)\n",
      "63 tensor(0.0337, grad_fn=<MseLossBackward>)\n",
      "64 tensor(0.0332, grad_fn=<MseLossBackward>)\n",
      "65 tensor(0.0327, grad_fn=<MseLossBackward>)\n",
      "66 tensor(0.0323, grad_fn=<MseLossBackward>)\n",
      "67 tensor(0.0318, grad_fn=<MseLossBackward>)\n",
      "68 tensor(0.0314, grad_fn=<MseLossBackward>)\n",
      "69 tensor(0.0309, grad_fn=<MseLossBackward>)\n",
      "70 tensor(0.0305, grad_fn=<MseLossBackward>)\n",
      "71 tensor(0.0300, grad_fn=<MseLossBackward>)\n",
      "72 tensor(0.0296, grad_fn=<MseLossBackward>)\n",
      "73 tensor(0.0292, grad_fn=<MseLossBackward>)\n",
      "74 tensor(0.0287, grad_fn=<MseLossBackward>)\n",
      "75 tensor(0.0283, grad_fn=<MseLossBackward>)\n",
      "76 tensor(0.0279, grad_fn=<MseLossBackward>)\n",
      "77 tensor(0.0275, grad_fn=<MseLossBackward>)\n",
      "78 tensor(0.0271, grad_fn=<MseLossBackward>)\n",
      "79 tensor(0.0267, grad_fn=<MseLossBackward>)\n",
      "80 tensor(0.0264, grad_fn=<MseLossBackward>)\n",
      "81 tensor(0.0260, grad_fn=<MseLossBackward>)\n",
      "82 tensor(0.0256, grad_fn=<MseLossBackward>)\n",
      "83 tensor(0.0252, grad_fn=<MseLossBackward>)\n",
      "84 tensor(0.0249, grad_fn=<MseLossBackward>)\n",
      "85 tensor(0.0245, grad_fn=<MseLossBackward>)\n",
      "86 tensor(0.0242, grad_fn=<MseLossBackward>)\n",
      "87 tensor(0.0238, grad_fn=<MseLossBackward>)\n",
      "88 tensor(0.0235, grad_fn=<MseLossBackward>)\n",
      "89 tensor(0.0231, grad_fn=<MseLossBackward>)\n",
      "90 tensor(0.0228, grad_fn=<MseLossBackward>)\n",
      "91 tensor(0.0225, grad_fn=<MseLossBackward>)\n",
      "92 tensor(0.0222, grad_fn=<MseLossBackward>)\n",
      "93 tensor(0.0218, grad_fn=<MseLossBackward>)\n",
      "94 tensor(0.0215, grad_fn=<MseLossBackward>)\n",
      "95 tensor(0.0212, grad_fn=<MseLossBackward>)\n",
      "96 tensor(0.0209, grad_fn=<MseLossBackward>)\n",
      "97 tensor(0.0206, grad_fn=<MseLossBackward>)\n",
      "98 tensor(0.0203, grad_fn=<MseLossBackward>)\n",
      "99 tensor(0.0200, grad_fn=<MseLossBackward>)\n"
     ]
    }
   ],
   "source": [
    "# 训练\n",
    "for epoch in range(100):\n",
    "    y_pred = model(x_data)\n",
    "    loss = criterion(y_pred,y_data)\n",
    "    print(epoch,loss)\n",
    "    \n",
    "    optimizer.zero_grad() # 梯度归零\n",
    "    loss.backward()\n",
    "    optimizer.step() # 参数更新"
   ]
  },
  {
   "cell_type": "code",
   "execution_count": 9,
   "id": "129d9f14",
   "metadata": {},
   "outputs": [
    {
     "name": "stdout",
     "output_type": "stream",
     "text": [
      "w =  1.9058136940002441\n",
      "b =  0.21410740911960602\n"
     ]
    }
   ],
   "source": [
    "print('w = ',model.linear.weight.item())\n",
    "print('b = ',model.linear.bias.item())"
   ]
  },
  {
   "cell_type": "code",
   "execution_count": 10,
   "id": "ffdc01f0",
   "metadata": {},
   "outputs": [
    {
     "name": "stdout",
     "output_type": "stream",
     "text": [
      "tensor([[7.8374]])\n"
     ]
    }
   ],
   "source": [
    "# 测试\n",
    "x_test = torch.Tensor([[4.0]])\n",
    "y_test = model(x_test)\n",
    "print(y_test.data)"
   ]
  }
 ],
 "metadata": {
  "kernelspec": {
   "display_name": "Python 3 (ipykernel)",
   "language": "python",
   "name": "python3"
  },
  "language_info": {
   "codemirror_mode": {
    "name": "ipython",
    "version": 3
   },
   "file_extension": ".py",
   "mimetype": "text/x-python",
   "name": "python",
   "nbconvert_exporter": "python",
   "pygments_lexer": "ipython3",
   "version": "3.9.7"
  }
 },
 "nbformat": 4,
 "nbformat_minor": 5
}
